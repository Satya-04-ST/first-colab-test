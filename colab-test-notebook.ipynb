{
  "nbformat": 4,
  "nbformat_minor": 0,
  "metadata": {
    "colab": {
      "provenance": [],
      "authorship_tag": "ABX9TyOxA5LJbFnPlmB2HBRujz48",
      "include_colab_link": true
    },
    "kernelspec": {
      "name": "python3",
      "display_name": "Python 3"
    },
    "language_info": {
      "name": "python"
    }
  },
  "cells": [
    {
      "cell_type": "markdown",
      "metadata": {
        "id": "view-in-github",
        "colab_type": "text"
      },
      "source": [
        "<a href=\"https://colab.research.google.com/github/Satya-04-ST/first-colab-test/blob/main/colab-test-notebook.ipynb\" target=\"_parent\"><img src=\"https://colab.research.google.com/assets/colab-badge.svg\" alt=\"Open In Colab\"/></a>"
      ]
    },
    {
      "cell_type": "code",
      "execution_count": 1,
      "metadata": {
        "id": "K35ZKv_9WG0Y"
      },
      "outputs": [],
      "source": [
        "with open(\"my_first_file.txt\", \"w\") as f:\n",
        "    f.write(\"This is Satya’s first file from Colab to GitHub!\")\n"
      ]
    }
  ]
}